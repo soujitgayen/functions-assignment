{
  "nbformat": 4,
  "nbformat_minor": 0,
  "metadata": {
    "colab": {
      "provenance": []
    },
    "kernelspec": {
      "name": "python3",
      "display_name": "Python 3"
    },
    "language_info": {
      "name": "python"
    }
  },
  "cells": [
    {
      "cell_type": "code",
      "execution_count": null,
      "metadata": {
        "id": "ITabeiMo8Rhe"
      },
      "outputs": [],
      "source": []
    },
    {
      "cell_type": "markdown",
      "source": [
        "#1. What is the difference between a function and a method in Python?\n",
        "  .In Python, the terms **function** and **method** are often used interchangeably, but they have distinct meanings and contexts. Here's the difference between the two:\n",
        "\n",
        "### 1. **Function:**\n",
        "   - A **function** is a block of reusable code that performs a specific task. It can take input parameters, process them, and return a result.\n",
        "   - A function is defined using the \"def\" keyword, and it can be called anywhere in the code.\n",
        "   - Functions are not tied to any object; they can be standalone entities in the code.\n",
        "\n",
        "   **Example of a function:**\n",
        "   def greet(name):\n",
        "       return f\"Hello, {name}!\"\n",
        "\n",
        "   result = greet(\"soujit\")\n",
        "   print(result)  \n",
        "\n",
        "### 2. **Method:**\n",
        "   - A **method** is a function that is associated with an object. Methods are defined within a class and operate on the instances (objects) of that class.\n",
        "   - Methods always have at least one parameter: 'self', which refers to the instance of the object the method is called on.\n",
        "   - Methods are invoked using the dot (`.`) notation on an object.\n",
        "\n",
        "   **Example of a method:**\n",
        "   class Person:\n",
        "       def __init__(self, name):\n",
        "           self.name = name\n",
        "\n",
        "       def greet(self):\n",
        "           return f\"Hello, {self.name}!\"\n",
        "\n",
        "   person = Person(\"Bob\")\n",
        "   result = person.greet()  # 'greet' is a method\n",
        "   print(result)  # Output: Hello, Bob!\n",
        "\n",
        "### Key Differences:\n",
        "- **Scope:**\n",
        "  - A **function** is independent and can be defined outside of classes or objects.\n",
        "  - A **method** is always defined inside a class and is meant to operate on instances of that class.\n",
        "  \n",
        "- **Calling Convention:**\n",
        "  - A **function** is called by its name: 'function_name()'.\n",
        "  - A **method** is called on an object using the dot notation: 'object.method()`.\n",
        "\n",
        "- **Self parameter:**\n",
        "  - A **method** takes at least one special parameter, usually called 'self', which refers to the instance of the class. Functions do not have this.\n",
        "\n",
        "- **Function**: Independent block of code that can be used globally.\n",
        "- **Method**: Function that belongs to a class and operates on instances of the class.\n",
        "\n",
        "#2. Explain the concept of function arguments and parameters in Python\n",
        "  .Function Parameters:\n",
        "Parameters are variables listed inside the parentheses of a function definition. They act as placeholders for the values that will be passed into the function when it is called.\n",
        "Parameters define what kind of input the function expects.\n",
        "def greet(name, age):\n",
        "    print(f\"Hello, {name}! You are {age} years old.\")\n",
        "Function Arguments:\n",
        "Arguments are the actual values that are passed into a function when it is called. These values are assigned to the corresponding parameters in the function.\n",
        "Arguments can be provided in the function call.\n",
        "greet(\"Alice\", 30)\n",
        "#3.Simple Function: Define with def, call by name.\n",
        "  .Function with Default Arguments: Define default values, call with or without passing arguments.\n",
        "Keyword Arguments: Define parameters, call using their names.\n",
        "Variable-Length Arguments (*args and **kwargs): Use *args for positional and **kwargs for keyword arguments.\n",
        "Lambda Functions: Define small anonymous functions with lambda.\n",
        "Passing Functions as Arguments: Functions can be passed as arguments to other functions.\n",
        "Nested Functions: Define a function inside another function.\n",
        "Returning Functions: Functions can return other functions, creating closures.\n",
        "#4.What is the purpose of the `return` statement in a Python function?\n",
        "  .The `return` statement in a Python function is used to exit the function and pass a result back to the caller. It can also be used to return a value from the function. When the `return` statement is encountered, the function terminates, and the specified value (if any) is returned to the place where the function was called.\n",
        "\n",
        "Here are the key purposes of the `return` statement:\n",
        "\n",
        "1. **Exit the function**: When `return` is executed, the function ends immediately, and the remaining code in the function (if any) will not be executed.\n",
        "   \n",
        "2. **Return a value**: The `return` statement can provide a value to the caller. This value can be of any data type (integer, string, list, etc.), or even `None` if no value is specified.\n",
        "\n",
        "3. **Allow further operations**: The value returned can be stored in a variable or used in other expressions.\n",
        "\n",
        "### Example:\n",
        "\n",
        "```python\n",
        "def add_numbers(a, b):\n",
        "    return a + b  # Returns the sum of a and b to the caller\n",
        "\n",
        "result = add_numbers(3, 5)  # Calls the function and stores the result\n",
        "print(result)  # Output: 8\n",
        "```\n",
        "\n",
        "### Key Points:\n",
        "- If no `return` statement is provided, the function will return `None` by default.\n",
        "- The `return` statement can return multiple values, often in the form of a tuple.\n",
        "  \n",
        "Example with multiple values:\n",
        "\n",
        "```python\n",
        "def get_coordinates():\n",
        "    return 10, 20  # Returns two values as a tuple\n",
        "\n",
        "x, y = get_coordinates()\n",
        "print(x, y)  # Output: 10 20\n",
        "```\n",
        "\n",
        "In summary, the `return` statement is essential for providing the output of a function and for controlling the flow of the program.\n",
        "#5.. What are iterators in Python and how do they differ from iterables?\n",
        "  .In Python, **iterables** and **iterators** are both related to the process of looping over data, but they serve distinct purposes.\n",
        "\n",
        "### 1. **Iterables**\n",
        "\n",
        "An **iterable** is any Python object that can return an iterator. Simply put, an iterable is any object that can be iterated over (looped over) using a `for` loop. Iterables implement the `__iter__()` method, which returns an iterator. Common examples of iterables are lists, tuples, dictionaries, sets, and strings.\n",
        "\n",
        "#### Key Points about Iterables:\n",
        "- They implement the `__iter__()` method, which returns an iterator.\n",
        "- They can be used in a `for` loop or passed to functions like `iter()` to obtain an iterator.\n",
        "- They are not necessarily consumed all at once; you can iterate over them multiple times.\n",
        "  \n",
        "**Example of an iterable:**\n",
        "\n",
        "```python\n",
        "# List is an iterable\n",
        "numbers = [1, 2, 3]\n",
        "\n",
        "# Getting an iterator from the iterable using iter()\n",
        "iterator = iter(numbers)\n",
        "\n",
        "# You can iterate over the iterable using a for loop\n",
        "for num in numbers:\n",
        "    print(num)\n",
        "```\n",
        "\n",
        "### 2. **Iterators**\n",
        "\n",
        "An **iterator** is an object that represents a stream of data, and it produces values one at a time, as requested. An iterator must implement two methods:\n",
        "- `__iter__()`: Returns the iterator object itself (this is needed to conform to the iterable protocol).\n",
        "- `__next__()`: Returns the next item in the sequence, or raises `StopIteration` when there are no more items to return.\n",
        "\n",
        "#### Key Points about Iterators:\n",
        "- They are created from iterables using the `iter()` function.\n",
        "- They keep track of the state of iteration (i.e., the current position in the sequence).\n",
        "- After they are exhausted (i.e., all elements have been returned), calling `__next__()` will raise the `StopIteration` exception.\n",
        "- Iterators can be used only once—after all items are consumed, they cannot be reused.\n",
        "\n",
        "**Example of an iterator:**\n",
        "\n",
        "```python\n",
        "# List is an iterable\n",
        "numbers = [1, 2, 3]\n",
        "\n",
        "# Get an iterator from the iterable\n",
        "iterator = iter(numbers)\n",
        "\n",
        "# Using next() to get the next item from the iterator\n",
        "print(next(iterator))  # Output: 1\n",
        "print(next(iterator))  # Output: 2\n",
        "print(next(iterator))  # Output: 3\n",
        "\n",
        "# After the iterator is exhausted, it raises StopIteration\n",
        "# print(next(iterator))  # This would raise StopIteration\n",
        "```\n",
        "\n",
        "### Differences Between Iterables and Iterators:\n",
        "\n",
        "| Aspect                 | Iterable                                           | Iterator                                          |\n",
        "|------------------------|----------------------------------------------------|---------------------------------------------------|\n",
        "| **Definition**          | An object that can return an iterator              | An object that produces values one at a time      |\n",
        "| **Methods**             | Implements `__iter__()` method                     | Implements both `__iter__()` and `__next__()` methods |\n",
        "| **Usage**               | Can be iterated over multiple times (e.g., in a `for` loop) | Can only be iterated once (until `StopIteration`) |\n",
        "| **Examples**            | Lists, Tuples, Sets, Dictionaries, Strings         | Created using `iter()` on an iterable (e.g., list iterator) |\n",
        "| **State**               | Does not maintain the state of iteration          | Maintains the current state of iteration         |\n",
        "\n",
        "### Conclusion:\n",
        "- **Iterables** are objects that can return an iterator (e.g., lists, strings, etc.), and they support repeated iteration.\n",
        "- **Iterators** are the objects that perform the actual iteration, keeping track of the state, and can only be iterated once (i.e., they get exhausted).\n",
        "\n",
        "In essence, iterables provide the data, and iterators control the flow of accessing that data one item at a time.\n",
        "#6. Explain the concept of generators in Python and how they are defined\n",
        "  .### What are Generators in Python?\n",
        "\n",
        "A **generator** in Python is a special type of iterator that is defined using a function but yields values one at a time, instead of returning them all at once. Generators are typically used to represent sequences of data that are too large to store in memory, or when you want to generate data on the fly without having to precompute it all.\n",
        "\n",
        "The key characteristic of generators is that they are **lazy**: they do not generate all values upfront; instead, they compute and yield each value only when requested.\n",
        "\n",
        "### How are Generators Defined?\n",
        "\n",
        "Generators are defined using the `yield` keyword in a function. The `yield` statement pauses the function, returning a value to the caller. The state of the function is saved, so when the generator is resumed (by calling `next()`), the function picks up where it left off, rather than starting from the beginning.\n",
        "\n",
        "#### 1. **Generator Function**:\n",
        "A generator function is a function that contains one or more `yield` expressions. When the function is called, it returns a generator object, which can then be used to iterate through the yielded values.\n",
        "\n",
        "**Example of a Generator Function:**\n",
        "\n",
        "```python\n",
        "def count_up_to(max):\n",
        "    count = 1\n",
        "    while count <= max:\n",
        "        yield count  # Yield returns a value and pauses the function\n",
        "        count += 1  # The function resumes from here when next() is called\n",
        "\n",
        "# Using the generator\n",
        "counter = count_up_to(5)\n",
        "\n",
        "# Iterate over the generator using next()\n",
        "print(next(counter))  # Output: 1\n",
        "print(next(counter))  # Output: 2\n",
        "print(next(counter))  # Output: 3\n",
        "```\n",
        "\n",
        "In this example, `count_up_to` is a generator function that yields numbers starting from 1 up to a specified maximum (`max`). Each time `next()` is called, the function continues from where it left off.\n",
        "\n",
        "#### 2. **Generator Expressions**:\n",
        "Generator expressions are similar to list comprehensions but use parentheses instead of square brackets. They are a concise way to define simple generators.\n",
        "\n",
        "**Example of a Generator Expression:**\n",
        "\n",
        "```python\n",
        "squares = (x * x for x in range(5))\n",
        "\n",
        "# Iterate over the generator\n",
        "for square in squares:\n",
        "    print(square)\n",
        "```\n",
        "\n",
        "This generator expression produces the square of each number from 0 to 4.\n",
        "\n",
        "### How Do Generators Work?\n",
        "\n",
        "When you call a generator function or expression, it doesn't execute the code immediately. Instead, it returns a **generator object**. This object is an iterator, so you can iterate over it with `next()`, or use it in a loop (`for` loop).\n",
        "\n",
        "- **`yield`**: When the generator function encounters the `yield` statement, it sends a value to the caller and suspends execution. The state of the function (including local variables) is saved.\n",
        "- **`next()`**: Calling `next()` on a generator resumes the function’s execution from where it left off and continues until the next `yield` is encountered, at which point it yields another value.\n",
        "- **`StopIteration`**: When the generator runs out of values to yield (i.e., the function reaches the end or a `return` statement), it raises the `StopIteration` exception to signal the end of the iteration.\n",
        "\n",
        "### Key Advantages of Generators:\n",
        "1. **Memory Efficiency**: Since generators yield one item at a time, they don't need to store the entire sequence in memory. This is especially useful when working with large datasets or infinite sequences.\n",
        "2. **Lazy Evaluation**: The values are generated only when needed, which can improve performance when you don’t need to process every value in a sequence.\n",
        "3. **Clean and Concise Code**: Generators can simplify code that would otherwise involve writing more complicated logic for handling iteration and state management.\n",
        "\n",
        "### Example: Fibonacci Generator\n",
        "\n",
        "A classic example of a generator is the Fibonacci sequence, where each number is the sum of the two preceding ones. Here’s how you can define it using a generator:\n",
        "\n",
        "```python\n",
        "def fibonacci():\n",
        "    a, b = 0, 1\n",
        "    while True:\n",
        "        yield a  # Yield the current value of a\n",
        "        a, b = b, a + b  # Update a and b to the next two numbers in the sequence\n",
        "\n",
        "# Using the Fibonacci generator\n",
        "fib = fibonacci()\n",
        "for _ in range(10):\n",
        "    print(next(fib))  # Output the first 10 Fibonacci numbers\n",
        "```\n",
        "\n",
        "In this example, the generator `fibonacci` yields numbers indefinitely. Using `next()`, we can fetch the next Fibonacci number on demand.\n",
        "\n",
        "### Conclusion:\n",
        "- **Generators** allow for lazy iteration over a potentially large (or infinite) sequence of data.\n",
        "- They are defined using functions with the `yield` keyword or with generator expressions.\n",
        "- The main advantages of generators include memory efficiency and lazy evaluation, making them suitable for working with large datasets or streams of data.\n",
        "\n",
        "#7.. What are the advantages of using generators over regular functions?\n",
        "  .**Advantages of using generators over regular functions:**\n",
        "\n",
        "1. **Memory Efficiency**: Generators yield values one at a time and do not store the entire sequence in memory, making them ideal for large datasets or infinite sequences. Regular functions often create and return entire collections, consuming more memory.\n",
        "\n",
        "2. **Lazy Evaluation**: Generators compute and return values only when needed, which can improve performance by avoiding unnecessary calculations and allowing immediate processing of data without waiting for the entire sequence to be generated.\n",
        "#8.. What is a lambda function in Python and when is it typically used?\n",
        "  .A **lambda function** in Python is a small, anonymous function defined using the `lambda` keyword. It can have any number of arguments but only a single expression. The result of the expression is implicitly returned.\n",
        "\n",
        "### Example:\n",
        "```python\n",
        "add = lambda x, y: x + y\n",
        "print(add(2, 3))  # Output: 5\n",
        "```\n",
        "\n",
        "### When is it used?\n",
        "- **Short, throwaway functions**: Lambda functions are typically used when a simple function is needed temporarily, especially when passing functions as arguments to higher-order functions like `map()`, `filter()`, or `sorted()`.\n",
        "- **Conciseness**: They are useful when you want to define a simple function without the need for a full `def` block.\n",
        "#9.. Explain the purpose and usage of the `map()` function in Python.\n",
        "  .The **`map()`** function in Python applies a given function to all items in an iterable (such as a list, tuple, etc.) and returns an iterator that produces the results.\n",
        "\n",
        "### Purpose:\n",
        "- **Transformation**: The `map()` function is used to transform or modify each item in an iterable based on a function.\n",
        "  \n",
        "### Usage:\n",
        "```python\n",
        "# Example: Using map() to square each number in a list\n",
        "numbers = [1, 2, 3, 4, 5]\n",
        "squared_numbers = map(lambda x: x ** 2, numbers)\n",
        "\n",
        "# Convert the map object to a list and print the result\n",
        "print(list(squared_numbers))  # Output: [1, 4, 9, 16, 25]\n",
        "```\n",
        "\n",
        "Here, the `lambda x: x ** 2` function is applied to each element of the `numbers` list. The result is a new iterator, which is converted to a list for display.\n",
        "\n",
        "### Key Points:\n",
        "- `map()` takes two arguments: a function and an iterable.\n",
        "- It applies the function to each item of the iterable and returns an iterator.\n",
        "- It is typically used for transforming data in a concise manner.\n",
        "#10. What is the difference between `map()`, `reduce()`, and `filter()` functions in Python\n",
        "  .The **`map()`**, **`reduce()`**, and **`filter()`** functions in Python are all higher-order functions used to apply a function to an iterable, but they serve different purposes:\n",
        "\n",
        "### 1. **`map()`**:\n",
        "- **Purpose**: Applies a function to **each item** in an iterable and returns an iterator of the results.\n",
        "- **Usage**: Used when you want to transform or modify each element in a collection.\n",
        "  \n",
        "  **Example**:\n",
        "  ```python\n",
        "  numbers = [1, 2, 3]\n",
        "  result = map(lambda x: x * 2, numbers)\n",
        "  print(list(result))  # Output: [2, 4, 6]\n",
        "  ```\n",
        "\n",
        "### 2. **`reduce()`**:\n",
        "- **Purpose**: Applies a function cumulatively to the items in an iterable, reducing the iterable to a **single value**.\n",
        "- **Usage**: Used when you want to reduce a collection to a single result, such as summing elements or finding the product.\n",
        "  \n",
        "  **Example**:\n",
        "  ```python\n",
        "  from functools import reduce\n",
        "  numbers = [1, 2, 3]\n",
        "  result = reduce(lambda x, y: x + y, numbers)\n",
        "  print(result)  # Output: 6\n",
        "  ```\n",
        "\n",
        "### 3. **`filter()`**:\n",
        "- **Purpose**: Applies a function to **each item** in an iterable and **filters out** those for which the function returns `False`, returning only the items that satisfy the condition.\n",
        "- **Usage**: Used when you want to filter elements in a collection based on a condition.\n",
        "  \n",
        "  **Example**:\n",
        "  ```python\n",
        "  numbers = [1, 2, 3, 4, 5]\n",
        "  result = filter(lambda x: x % 2 == 0, numbers)\n",
        "  print(list(result))  # Output: [2, 4]\n",
        "  ```\n",
        "\n",
        "### Summary of Differences:\n",
        "- **`map()`** transforms each element.\n",
        "- **`reduce()`** reduces the iterable to a single value.\n",
        "- **`filter()`** filters elements based on a condition.\n",
        "#11."
      ],
      "metadata": {
        "id": "2itaQLft8ZJu"
      }
    },
    {
      "cell_type": "code",
      "source": [
        "#Write a Python function that takes a list of numbers as input and returns the sum of all even numbers in the list\n",
        "def sum_of_even_numbers(numbers):\n",
        "    # Use filter to get only even numbers and sum them\n",
        "    return sum(filter(lambda x: x % 2 == 0, numbers))\n",
        "\n",
        "# Example usage:\n",
        "numbers = [1, 2, 3, 4, 5, 6, 7, 8, 9]\n",
        "result = sum_of_even_numbers(numbers)\n",
        "print(result)  # Output: 20 (2 + 4 + 6 + 8)\n"
      ],
      "metadata": {
        "colab": {
          "base_uri": "https://localhost:8080/"
        },
        "id": "L80gm7hbsMj9",
        "outputId": "78dccfd0-fcf0-46e5-d39d-f30c79b42e7e"
      },
      "execution_count": 1,
      "outputs": [
        {
          "output_type": "stream",
          "name": "stdout",
          "text": [
            "20\n"
          ]
        }
      ]
    },
    {
      "cell_type": "code",
      "source": [
        "#Create a Python function that accepts a string and returns the reverse of that string\n",
        "def reverse_string(s):\n",
        "    return s[::-1]\n",
        "\n",
        "# Example usage:\n",
        "input_string = \"Hello, world!\"\n",
        "reversed_string = reverse_string(input_string)\n",
        "print(reversed_string)  # Output: \"!dlrow ,olleH\"\n"
      ],
      "metadata": {
        "colab": {
          "base_uri": "https://localhost:8080/"
        },
        "id": "ydHfCfLSsj-v",
        "outputId": "9804ac40-afdc-442e-fe15-5c6f6c24c0cb"
      },
      "execution_count": 2,
      "outputs": [
        {
          "output_type": "stream",
          "name": "stdout",
          "text": [
            "!dlrow ,olleH\n"
          ]
        }
      ]
    },
    {
      "cell_type": "code",
      "source": [
        "# Implement a Python function that takes a list of integers and returns a new list containing the squares of each number.\n",
        "def square_numbers(numbers):\n",
        "    return [x ** 2 for x in numbers]\n",
        "\n",
        "# Example usage:\n",
        "input_list = [1, 2, 3, 4, 5]\n",
        "squared_list = square_numbers(input_list)\n",
        "print(squared_list)  # Output: [1, 4, 9, 16, 25]\n",
        "\n"
      ],
      "metadata": {
        "colab": {
          "base_uri": "https://localhost:8080/"
        },
        "id": "u3fyN8l_swC6",
        "outputId": "8c7ce55a-b5e2-4fb5-ce40-0850cb4822b9"
      },
      "execution_count": 5,
      "outputs": [
        {
          "output_type": "stream",
          "name": "stdout",
          "text": [
            "[1, 4, 9, 16, 25]\n"
          ]
        }
      ]
    },
    {
      "cell_type": "code",
      "source": [
        "#. Write a Python function that checks if a given number is prime or not from 1 to 200\n",
        "def is_prime(n):\n",
        "    # Check if the number is less than 2\n",
        "    if n <= 1:\n",
        "        return False\n",
        "    # Check for factors from 2 to the square root of the number\n",
        "    for i in range(2, int(n ** 0.5) + 1):\n",
        "        if n % i == 0:\n",
        "            return False\n",
        "    return True\n",
        "\n",
        "# Example usage:\n",
        "for num in range(1, 201):\n",
        "    if is_prime(num):\n",
        "        print(num, \"is prime\")\n"
      ],
      "metadata": {
        "colab": {
          "base_uri": "https://localhost:8080/"
        },
        "id": "or48r3njtRX7",
        "outputId": "4effb352-6b56-438d-be53-84ff62cd7914"
      },
      "execution_count": 6,
      "outputs": [
        {
          "output_type": "stream",
          "name": "stdout",
          "text": [
            "2 is prime\n",
            "3 is prime\n",
            "5 is prime\n",
            "7 is prime\n",
            "11 is prime\n",
            "13 is prime\n",
            "17 is prime\n",
            "19 is prime\n",
            "23 is prime\n",
            "29 is prime\n",
            "31 is prime\n",
            "37 is prime\n",
            "41 is prime\n",
            "43 is prime\n",
            "47 is prime\n",
            "53 is prime\n",
            "59 is prime\n",
            "61 is prime\n",
            "67 is prime\n",
            "71 is prime\n",
            "73 is prime\n",
            "79 is prime\n",
            "83 is prime\n",
            "89 is prime\n",
            "97 is prime\n",
            "101 is prime\n",
            "103 is prime\n",
            "107 is prime\n",
            "109 is prime\n",
            "113 is prime\n",
            "127 is prime\n",
            "131 is prime\n",
            "137 is prime\n",
            "139 is prime\n",
            "149 is prime\n",
            "151 is prime\n",
            "157 is prime\n",
            "163 is prime\n",
            "167 is prime\n",
            "173 is prime\n",
            "179 is prime\n",
            "181 is prime\n",
            "191 is prime\n",
            "193 is prime\n",
            "197 is prime\n",
            "199 is prime\n"
          ]
        }
      ]
    },
    {
      "cell_type": "code",
      "source": [
        "# Create an iterator class in Python that generates the Fibonacci sequence up to a specified number of terms\n",
        "class FibonacciIterator:\n",
        "    def __init__(self, terms):\n",
        "        self.terms = terms  # Total number of terms in the Fibonacci sequence\n",
        "        self.a, self.b = 0, 1  # Initialize the first two Fibonacci numbers\n",
        "        self.count = 0  # Counter to keep track of the number of terms\n",
        "\n",
        "    def __iter__(self):\n",
        "        return self  # The instance itself is the iterator\n",
        "\n",
        "    def __next__(self):\n",
        "        if self.count >= self.terms:  # Stop iteration when the specified number of terms is reached\n",
        "            raise StopIteration\n",
        "        # Return the current Fibonacci number\n",
        "        current = self.a\n",
        "        self.a, self.b = self.b, self.a + self.b  # Update to the next Fibonacci numbers\n",
        "        self.count += 1\n",
        "        return current\n",
        "\n",
        "# Example usage:\n",
        "fib = FibonacciIterator(10)  # Generate the first 10 Fibonacci numbers\n",
        "for num in fib:\n",
        "    print(num)\n"
      ],
      "metadata": {
        "id": "cO1irDNdtgLK"
      },
      "execution_count": null,
      "outputs": []
    },
    {
      "cell_type": "code",
      "source": [
        "#Write a generator function in Python that yields the powers of 2 up to a given exponent.\n",
        "def power_of_two(exponent):\n",
        "    for i in range(exponent + 1):\n",
        "        yield 2 ** i\n",
        "\n",
        "# Example usage:\n",
        "for power in power_of_two(5):\n",
        "    print(power)"
      ],
      "metadata": {
        "colab": {
          "base_uri": "https://localhost:8080/"
        },
        "id": "IcNSw5CBtxON",
        "outputId": "ddbde81a-39bb-4ff7-89b7-3791e6e4037d"
      },
      "execution_count": 7,
      "outputs": [
        {
          "output_type": "stream",
          "name": "stdout",
          "text": [
            "1\n",
            "2\n",
            "4\n",
            "8\n",
            "16\n",
            "32\n"
          ]
        }
      ]
    },
    {
      "cell_type": "code",
      "source": [
        "# Implement a generator function that reads a file line by line and yields each line as a string\n",
        "def read_file_line_by_line(file_path):\n",
        "    with open(file_path, 'r') as file:\n",
        "        for line in file:\n",
        "            yield line\n"
      ],
      "metadata": {
        "id": "n1LzJqLnt-sM"
      },
      "execution_count": 8,
      "outputs": []
    },
    {
      "cell_type": "code",
      "source": [
        "# Use a lambda function in Python to sort a list of tuples based on the second element of each tuple.\n",
        "# List of tuples\n",
        "tuples = [(1, 3), (4, 1), (2, 2), (5, 4)]\n",
        "\n",
        "# Sort the list of tuples based on the second element of each tuple\n",
        "sorted_tuples = sorted(tuples, key=lambda x: x[1])\n",
        "\n",
        "# Print the sorted list\n",
        "print(sorted_tuples)\n"
      ],
      "metadata": {
        "colab": {
          "base_uri": "https://localhost:8080/"
        },
        "id": "sbJT6UR3uHcD",
        "outputId": "93752058-2b81-4697-ce61-343413252529"
      },
      "execution_count": 9,
      "outputs": [
        {
          "output_type": "stream",
          "name": "stdout",
          "text": [
            "[(4, 1), (2, 2), (1, 3), (5, 4)]\n"
          ]
        }
      ]
    },
    {
      "cell_type": "code",
      "source": [
        "# Write a Python program that uses `map()` to convert a list of temperatures from Celsius to Fahrenheit.\n",
        "# List of temperatures in Celsius\n",
        "celsius_temperatures = [0, 10, 20, 30, 40, 50]\n",
        "\n",
        "# Use map() to convert Celsius to Fahrenheit\n",
        "fahrenheit_temperatures = map(lambda c: (c * 9/5) + 32, celsius_temperatures)\n",
        "\n",
        "# Convert the result from map object to list and print it\n",
        "print(list(fahrenheit_temperatures))\n"
      ],
      "metadata": {
        "colab": {
          "base_uri": "https://localhost:8080/"
        },
        "id": "TcM-9-FPuexe",
        "outputId": "e339ae27-b8f8-481d-c025-d9d449fa8aa2"
      },
      "execution_count": 10,
      "outputs": [
        {
          "output_type": "stream",
          "name": "stdout",
          "text": [
            "[32.0, 50.0, 68.0, 86.0, 104.0, 122.0]\n"
          ]
        }
      ]
    },
    {
      "cell_type": "code",
      "source": [
        "# Create a Python program that uses `filter()` to remove all the vowels from a given string\n",
        "def remove_vowels(input_string):\n",
        "    # Define a string of vowels\n",
        "    vowels = \"aeiouAEIOU\"\n",
        "\n",
        "    # Use filter to remove vowels and join the result into a new string\n",
        "    filtered_string = ''.join(filter(lambda x: x not in vowels, input_string))\n",
        "\n",
        "    return filtered_string\n",
        "\n",
        "# Example usage:\n",
        "input_string = \"Hello, World!\"\n",
        "result = remove_vowels(input_string)\n",
        "print(result)\n"
      ],
      "metadata": {
        "colab": {
          "base_uri": "https://localhost:8080/"
        },
        "id": "XeIvk49Vur2O",
        "outputId": "c870ff7c-1b95-4fe7-da5f-6b25dfb996ea"
      },
      "execution_count": 11,
      "outputs": [
        {
          "output_type": "stream",
          "name": "stdout",
          "text": [
            "Hll, Wrld!\n"
          ]
        }
      ]
    },
    {
      "cell_type": "code",
      "source": [],
      "metadata": {
        "id": "emnCpVBZu3Cd"
      },
      "execution_count": null,
      "outputs": []
    }
  ]
}